{
 "metadata": {
  "language_info": {
   "codemirror_mode": {
    "name": "ipython",
    "version": 3
   },
   "file_extension": ".py",
   "mimetype": "text/x-python",
   "name": "python",
   "nbconvert_exporter": "python",
   "pygments_lexer": "ipython3",
   "version": "3.8.5-final"
  },
  "orig_nbformat": 2,
  "kernelspec": {
   "name": "python3",
   "display_name": "Python 3.8.5 64-bit ('base': conda)",
   "metadata": {
    "interpreter": {
     "hash": "76829ae11ceb3be505b9d762c66d5a8ab0d1af09c060f115e925199244756c15"
    }
   }
  }
 },
 "nbformat": 4,
 "nbformat_minor": 2,
 "cells": [
  {
   "source": [
    "## Setting Up Gym ENV"
   ],
   "cell_type": "markdown",
   "metadata": {}
  },
  {
   "cell_type": "code",
   "execution_count": 1,
   "metadata": {
    "tags": [
     "outputPrepend"
    ]
   },
   "outputs": [
    {
     "output_type": "stream",
     "name": "stdout",
     "text": [
      "/lib.linux-x86_64-3.8/atari_py/ale_interface/src/games/supported\n",
      "    copying atari_py/ale_interface/src/games/supported/Venture.hpp -> build/lib.linux-x86_64-3.8/atari_py/ale_interface/src/games/supported\n",
      "    copying atari_py/ale_interface/src/games/supported/VideoPinball.cpp -> build/lib.linux-x86_64-3.8/atari_py/ale_interface/src/games/supported\n",
      "    copying atari_py/ale_interface/src/games/supported/VideoPinball.hpp -> build/lib.linux-x86_64-3.8/atari_py/ale_interface/src/games/supported\n",
      "    copying atari_py/ale_interface/src/games/supported/WizardOfWor.cpp -> build/lib.linux-x86_64-3.8/atari_py/ale_interface/src/games/supported\n",
      "    copying atari_py/ale_interface/src/games/supported/WizardOfWor.hpp -> build/lib.linux-x86_64-3.8/atari_py/ale_interface/src/games/supported\n",
      "    copying atari_py/ale_interface/src/games/supported/YarsRevenge.cpp -> build/lib.linux-x86_64-3.8/atari_py/ale_interface/src/games/supported\n",
      "    copying atari_py/ale_interface/src/games/supported/YarsRevenge.hpp -> build/lib.linux-x86_64-3.8/atari_py/ale_interface/src/games/supported\n",
      "    copying atari_py/ale_interface/src/games/supported/Zaxxon.cpp -> build/lib.linux-x86_64-3.8/atari_py/ale_interface/src/games/supported\n",
      "    copying atari_py/ale_interface/src/games/supported/Zaxxon.hpp -> build/lib.linux-x86_64-3.8/atari_py/ale_interface/src/games/supported\n",
      "    copying atari_py/ale_interface/src/main.cpp -> build/lib.linux-x86_64-3.8/atari_py/ale_interface/src\n",
      "    copying atari_py/ale_interface/src/module.mk -> build/lib.linux-x86_64-3.8/atari_py/ale_interface/src\n",
      "    creating build/lib.linux-x86_64-3.8/atari_py/ale_interface/src/os_dependent\n",
      "    copying atari_py/ale_interface/src/os_dependent/FSNodePOSIX.cxx -> build/lib.linux-x86_64-3.8/atari_py/ale_interface/src/os_dependent\n",
      "    copying atari_py/ale_interface/src/os_dependent/FSNodeWin32.cxx -> build/lib.linux-x86_64-3.8/atari_py/ale_interface/src/os_dependent\n",
      "    copying atari_py/ale_interface/src/os_dependent/OSystemUNIX.cxx -> build/lib.linux-x86_64-3.8/atari_py/ale_interface/src/os_dependent\n",
      "    copying atari_py/ale_interface/src/os_dependent/OSystemUNIX.hxx -> build/lib.linux-x86_64-3.8/atari_py/ale_interface/src/os_dependent\n",
      "    copying atari_py/ale_interface/src/os_dependent/OSystemWin32.cxx -> build/lib.linux-x86_64-3.8/atari_py/ale_interface/src/os_dependent\n",
      "    copying atari_py/ale_interface/src/os_dependent/OSystemWin32.hxx -> build/lib.linux-x86_64-3.8/atari_py/ale_interface/src/os_dependent\n",
      "    copying atari_py/ale_interface/src/os_dependent/SettingsUNIX.cxx -> build/lib.linux-x86_64-3.8/atari_py/ale_interface/src/os_dependent\n",
      "    copying atari_py/ale_interface/src/os_dependent/SettingsUNIX.hxx -> build/lib.linux-x86_64-3.8/atari_py/ale_interface/src/os_dependent\n",
      "    copying atari_py/ale_interface/src/os_dependent/SettingsWin32.cxx -> build/lib.linux-x86_64-3.8/atari_py/ale_interface/src/os_dependent\n",
      "    copying atari_py/ale_interface/src/os_dependent/SettingsWin32.hxx -> build/lib.linux-x86_64-3.8/atari_py/ale_interface/src/os_dependent\n",
      "    copying atari_py/ale_interface/src/os_dependent/module.mk -> build/lib.linux-x86_64-3.8/atari_py/ale_interface/src/os_dependent\n",
      "    copying atari_py/atari_ntsc_rgb_palette.h -> build/lib.linux-x86_64-3.8/atari_py\n",
      "    creating build/lib.linux-x86_64-3.8/atari_py/atari_roms\n",
      "    copying atari_py/atari_roms/adventure.bin -> build/lib.linux-x86_64-3.8/atari_py/atari_roms\n",
      "    copying atari_py/atari_roms/air_raid.bin -> build/lib.linux-x86_64-3.8/atari_py/atari_roms\n",
      "    copying atari_py/atari_roms/alien.bin -> build/lib.linux-x86_64-3.8/atari_py/atari_roms\n",
      "    copying atari_py/atari_roms/amidar.bin -> build/lib.linux-x86_64-3.8/atari_py/atari_roms\n",
      "    copying atari_py/atari_roms/assault.bin -> build/lib.linux-x86_64-3.8/atari_py/atari_roms\n",
      "    copying atari_py/atari_roms/asterix.bin -> build/lib.linux-x86_64-3.8/atari_py/atari_roms\n",
      "    copying atari_py/atari_roms/asteroids.bin -> build/lib.linux-x86_64-3.8/atari_py/atari_roms\n",
      "    copying atari_py/atari_roms/atlantis.bin -> build/lib.linux-x86_64-3.8/atari_py/atari_roms\n",
      "    copying atari_py/atari_roms/bank_heist.bin -> build/lib.linux-x86_64-3.8/atari_py/atari_roms\n",
      "    copying atari_py/atari_roms/battle_zone.bin -> build/lib.linux-x86_64-3.8/atari_py/atari_roms\n",
      "    copying atari_py/atari_roms/beam_rider.bin -> build/lib.linux-x86_64-3.8/atari_py/atari_roms\n",
      "    copying atari_py/atari_roms/berzerk.bin -> build/lib.linux-x86_64-3.8/atari_py/atari_roms\n",
      "    copying atari_py/atari_roms/bowling.bin -> build/lib.linux-x86_64-3.8/atari_py/atari_roms\n",
      "    copying atari_py/atari_roms/boxing.bin -> build/lib.linux-x86_64-3.8/atari_py/atari_roms\n",
      "    copying atari_py/atari_roms/breakout.bin -> build/lib.linux-x86_64-3.8/atari_py/atari_roms\n",
      "    copying atari_py/atari_roms/carnival.bin -> build/lib.linux-x86_64-3.8/atari_py/atari_roms\n",
      "    copying atari_py/atari_roms/centipede.bin -> build/lib.linux-x86_64-3.8/atari_py/atari_roms\n",
      "    copying atari_py/atari_roms/chopper_command.bin -> build/lib.linux-x86_64-3.8/atari_py/atari_roms\n",
      "    copying atari_py/atari_roms/crazy_climber.bin -> build/lib.linux-x86_64-3.8/atari_py/atari_roms\n",
      "    copying atari_py/atari_roms/defender.bin -> build/lib.linux-x86_64-3.8/atari_py/atari_roms\n",
      "    copying atari_py/atari_roms/demon_attack.bin -> build/lib.linux-x86_64-3.8/atari_py/atari_roms\n",
      "    copying atari_py/atari_roms/double_dunk.bin -> build/lib.linux-x86_64-3.8/atari_py/atari_roms\n",
      "    copying atari_py/atari_roms/elevator_action.bin -> build/lib.linux-x86_64-3.8/atari_py/atari_roms\n",
      "    copying atari_py/atari_roms/enduro.bin -> build/lib.linux-x86_64-3.8/atari_py/atari_roms\n",
      "    copying atari_py/atari_roms/fishing_derby.bin -> build/lib.linux-x86_64-3.8/atari_py/atari_roms\n",
      "    copying atari_py/atari_roms/freeway.bin -> build/lib.linux-x86_64-3.8/atari_py/atari_roms\n",
      "    copying atari_py/atari_roms/frostbite.bin -> build/lib.linux-x86_64-3.8/atari_py/atari_roms\n",
      "    copying atari_py/atari_roms/gopher.bin -> build/lib.linux-x86_64-3.8/atari_py/atari_roms\n",
      "    copying atari_py/atari_roms/gravitar.bin -> build/lib.linux-x86_64-3.8/atari_py/atari_roms\n",
      "    copying atari_py/atari_roms/hero.bin -> build/lib.linux-x86_64-3.8/atari_py/atari_roms\n",
      "    copying atari_py/atari_roms/ice_hockey.bin -> build/lib.linux-x86_64-3.8/atari_py/atari_roms\n",
      "    copying atari_py/atari_roms/jamesbond.bin -> build/lib.linux-x86_64-3.8/atari_py/atari_roms\n",
      "    copying atari_py/atari_roms/journey_escape.bin -> build/lib.linux-x86_64-3.8/atari_py/atari_roms\n",
      "    copying atari_py/atari_roms/kaboom.bin -> build/lib.linux-x86_64-3.8/atari_py/atari_roms\n",
      "    copying atari_py/atari_roms/kangaroo.bin -> build/lib.linux-x86_64-3.8/atari_py/atari_roms\n",
      "    copying atari_py/atari_roms/krull.bin -> build/lib.linux-x86_64-3.8/atari_py/atari_roms\n",
      "    copying atari_py/atari_roms/kung_fu_master.bin -> build/lib.linux-x86_64-3.8/atari_py/atari_roms\n",
      "    copying atari_py/atari_roms/montezuma_revenge.bin -> build/lib.linux-x86_64-3.8/atari_py/atari_roms\n",
      "    copying atari_py/atari_roms/ms_pacman.bin -> build/lib.linux-x86_64-3.8/atari_py/atari_roms\n",
      "    copying atari_py/atari_roms/name_this_game.bin -> build/lib.linux-x86_64-3.8/atari_py/atari_roms\n",
      "    copying atari_py/atari_roms/phoenix.bin -> build/lib.linux-x86_64-3.8/atari_py/atari_roms\n",
      "    copying atari_py/atari_roms/pitfall.bin -> build/lib.linux-x86_64-3.8/atari_py/atari_roms\n",
      "    copying atari_py/atari_roms/pong.bin -> build/lib.linux-x86_64-3.8/atari_py/atari_roms\n",
      "    copying atari_py/atari_roms/pooyan.bin -> build/lib.linux-x86_64-3.8/atari_py/atari_roms\n",
      "    copying atari_py/atari_roms/private_eye.bin -> build/lib.linux-x86_64-3.8/atari_py/atari_roms\n",
      "    copying atari_py/atari_roms/qbert.bin -> build/lib.linux-x86_64-3.8/atari_py/atari_roms\n",
      "    copying atari_py/atari_roms/riverraid.bin -> build/lib.linux-x86_64-3.8/atari_py/atari_roms\n",
      "    copying atari_py/atari_roms/road_runner.bin -> build/lib.linux-x86_64-3.8/atari_py/atari_roms\n",
      "    copying atari_py/atari_roms/robotank.bin -> build/lib.linux-x86_64-3.8/atari_py/atari_roms\n",
      "    copying atari_py/atari_roms/seaquest.bin -> build/lib.linux-x86_64-3.8/atari_py/atari_roms\n",
      "    copying atari_py/atari_roms/skiing.bin -> build/lib.linux-x86_64-3.8/atari_py/atari_roms\n",
      "    copying atari_py/atari_roms/solaris.bin -> build/lib.linux-x86_64-3.8/atari_py/atari_roms\n",
      "    copying atari_py/atari_roms/space_invaders.bin -> build/lib.linux-x86_64-3.8/atari_py/atari_roms\n",
      "    copying atari_py/atari_roms/star_gunner.bin -> build/lib.linux-x86_64-3.8/atari_py/atari_roms\n",
      "    copying atari_py/atari_roms/tennis.bin -> build/lib.linux-x86_64-3.8/atari_py/atari_roms\n",
      "    copying atari_py/atari_roms/time_pilot.bin -> build/lib.linux-x86_64-3.8/atari_py/atari_roms\n",
      "    copying atari_py/atari_roms/tutankham.bin -> build/lib.linux-x86_64-3.8/atari_py/atari_roms\n",
      "    copying atari_py/atari_roms/up_n_down.bin -> build/lib.linux-x86_64-3.8/atari_py/atari_roms\n",
      "    copying atari_py/atari_roms/venture.bin -> build/lib.linux-x86_64-3.8/atari_py/atari_roms\n",
      "    copying atari_py/atari_roms/video_pinball.bin -> build/lib.linux-x86_64-3.8/atari_py/atari_roms\n",
      "    copying atari_py/atari_roms/wizard_of_wor.bin -> build/lib.linux-x86_64-3.8/atari_py/atari_roms\n",
      "    copying atari_py/atari_roms/yars_revenge.bin -> build/lib.linux-x86_64-3.8/atari_py/atari_roms\n",
      "    copying atari_py/atari_roms/zaxxon.bin -> build/lib.linux-x86_64-3.8/atari_py/atari_roms\n",
      "    copying atari_py/package_data.txt -> build/lib.linux-x86_64-3.8/atari_py\n",
      "    creating build/lib.linux-x86_64-3.8/atari_py/tests\n",
      "    copying atari_py/tests/test_smoke.py -> build/lib.linux-x86_64-3.8/atari_py/tests\n",
      "    copying atari_py/tests/__init__.py -> build/lib.linux-x86_64-3.8/atari_py/tests\n",
      "    running build_ext\n",
      "    CMake Deprecation Warning at CMakeLists.txt:1 (cmake_minimum_required):\n",
      "      Compatibility with CMake < 2.8.12 will be removed from a future version of\n",
      "      CMake.\n",
      "    \n",
      "      Update the VERSION argument <min> value or use a ...<max> suffix to tell\n",
      "      CMake that the project does not need compatibility with older versions.\n",
      "    \n",
      "    \n",
      "    -- The C compiler identification is GNU 10.2.0\n",
      "    -- The CXX compiler identification is GNU 10.2.0\n",
      "    -- Detecting C compiler ABI info\n",
      "    -- Detecting C compiler ABI info - done\n",
      "    -- Check for working C compiler: /usr/bin/cc - skipped\n",
      "    -- Detecting C compile features\n",
      "    -- Detecting C compile features - done\n",
      "    -- Detecting CXX compiler ABI info\n",
      "    -- Detecting CXX compiler ABI info - done\n",
      "    -- Check for working CXX compiler: /usr/bin/c++ - skipped\n",
      "    -- Detecting CXX compile features\n",
      "    -- Detecting CXX compile features - done\n",
      "    CMake Warning (dev) at CMakeLists.txt:227 (FILE):\n",
      "      Policy CMP0053 is not set: Simplify variable reference and escape sequence\n",
      "      evaluation.  Run \"cmake --help-policy CMP0053\" for policy details.  Use the\n",
      "      cmake_policy command to set the policy and suppress this warning.\n",
      "    \n",
      "      For input:\n",
      "    \n",
      "        '\n",
      "        IF(NOT EXISTS \\\"@CMAKE_CURRENT_BINARY_DIR@/install_manifest.txt\\\")\n",
      "          MESSAGE(FATAL_ERROR \\\"Cannot find install manifest: @CMAKE_CURRENT_BINARY_DIR@/install_manifest.txt\\\")\n",
      "        ENDIF(NOT EXISTS \\\"@CMAKE_CURRENT_BINARY_DIR@/install_manifest.txt\\\")\n",
      "    \n",
      "        FILE(READ \\\"@CMAKE_CURRENT_BINARY_DIR@/install_manifest.txt\\\" files)\n",
      "        STRING(REGEX REPLACE \\\"\\\\n\\\" \\\";\\\" files \\\"\\${files}\\\")\n",
      "        FOREACH(file \\${files})\n",
      "          MESSAGE(STATUS \\\"Uninstalling \\\"\\$ENV{DESTDIR}\\${file}\\\"\\\")\n",
      "          IF(EXISTS \\\"\\$ENV{DESTDIR}\\${file}\\\")\n",
      "            EXEC_PROGRAM(\n",
      "              \\\"@CMAKE_COMMAND@\\\" ARGS \\\"-E remove \\\"\\$ENV{DESTDIR}\\${file}\\\"\\\"\n",
      "              OUTPUT_VARIABLE rm_out\n",
      "              RETURN_VALUE rm_retval\n",
      "              )\n",
      "            IF(NOT \\\"\\${rm_retval}\\\" STREQUAL 0)\n",
      "              MESSAGE(FATAL_ERROR \\\"Problem when removing \\\"\\$ENV{DESTDIR}\\${file}\\\"\\\")\n",
      "            ENDIF(NOT \\\"\\${rm_retval}\\\" STREQUAL 0)\n",
      "          ELSE(EXISTS \\\"\\$ENV{DESTDIR}\\${file}\\\")\n",
      "            MESSAGE(STATUS \\\"File \\\"\\$ENV{DESTDIR}\\${file}\\\" does not exist.\\\")\n",
      "          ENDIF(EXISTS \\\"\\$ENV{DESTDIR}\\${file}\\\")\n",
      "        ENDFOREACH(file)\n",
      "        '\n",
      "    \n",
      "      the old evaluation rules produce:\n",
      "    \n",
      "        '\n",
      "        IF(NOT EXISTS \"/tmp/pip-install-g6yuiz80/atari-py_932d60012e6948ed889798d568913e56/build/lib.linux-x86_64-3.8/atari_py/ale_interface/build/install_manifest.txt\")\n",
      "          MESSAGE(FATAL_ERROR \"Cannot find install manifest: /tmp/pip-install-g6yuiz80/atari-py_932d60012e6948ed889798d568913e56/build/lib.linux-x86_64-3.8/atari_py/ale_interface/build/install_manifest.txt\")\n",
      "        ENDIF(NOT EXISTS \"/tmp/pip-install-g6yuiz80/atari-py_932d60012e6948ed889798d568913e56/build/lib.linux-x86_64-3.8/atari_py/ale_interface/build/install_manifest.txt\")\n",
      "    \n",
      "        FILE(READ \"/tmp/pip-install-g6yuiz80/atari-py_932d60012e6948ed889798d568913e56/build/lib.linux-x86_64-3.8/atari_py/ale_interface/build/install_manifest.txt\" files)\n",
      "        STRING(REGEX REPLACE \"\\n\" \";\" files \"${files}\")\n",
      "        FOREACH(file ${files})\n",
      "          MESSAGE(STATUS \"Uninstalling \"$ENV{DESTDIR}${file}\"\")\n",
      "          IF(EXISTS \"$ENV{DESTDIR}${file}\")\n",
      "            EXEC_PROGRAM(\n",
      "              \"/snap/cmake/805/bin/cmake\" ARGS \"-E remove \"$ENV{DESTDIR}${file}\"\"\n",
      "              OUTPUT_VARIABLE rm_out\n",
      "              RETURN_VALUE rm_retval\n",
      "              )\n",
      "            IF(NOT \"${rm_retval}\" STREQUAL 0)\n",
      "              MESSAGE(FATAL_ERROR \"Problem when removing \"$ENV{DESTDIR}${file}\"\")\n",
      "            ENDIF(NOT \"${rm_retval}\" STREQUAL 0)\n",
      "          ELSE(EXISTS \"$ENV{DESTDIR}${file}\")\n",
      "            MESSAGE(STATUS \"File \"$ENV{DESTDIR}${file}\" does not exist.\")\n",
      "          ENDIF(EXISTS \"$ENV{DESTDIR}${file}\")\n",
      "        ENDFOREACH(file)\n",
      "        '\n",
      "    \n",
      "      but the new evaluation rules produce:\n",
      "    \n",
      "        '\n",
      "        IF(NOT EXISTS \"@CMAKE_CURRENT_BINARY_DIR@/install_manifest.txt\")\n",
      "          MESSAGE(FATAL_ERROR \"Cannot find install manifest: @CMAKE_CURRENT_BINARY_DIR@/install_manifest.txt\")\n",
      "        ENDIF(NOT EXISTS \"@CMAKE_CURRENT_BINARY_DIR@/install_manifest.txt\")\n",
      "    \n",
      "        FILE(READ \"@CMAKE_CURRENT_BINARY_DIR@/install_manifest.txt\" files)\n",
      "        STRING(REGEX REPLACE \"\\n\" \";\" files \"${files}\")\n",
      "        FOREACH(file ${files})\n",
      "          MESSAGE(STATUS \"Uninstalling \"$ENV{DESTDIR}${file}\"\")\n",
      "          IF(EXISTS \"$ENV{DESTDIR}${file}\")\n",
      "            EXEC_PROGRAM(\n",
      "              \"@CMAKE_COMMAND@\" ARGS \"-E remove \"$ENV{DESTDIR}${file}\"\"\n",
      "              OUTPUT_VARIABLE rm_out\n",
      "              RETURN_VALUE rm_retval\n",
      "              )\n",
      "            IF(NOT \"${rm_retval}\" STREQUAL 0)\n",
      "              MESSAGE(FATAL_ERROR \"Problem when removing \"$ENV{DESTDIR}${file}\"\")\n",
      "            ENDIF(NOT \"${rm_retval}\" STREQUAL 0)\n",
      "          ELSE(EXISTS \"$ENV{DESTDIR}${file}\")\n",
      "            MESSAGE(STATUS \"File \"$ENV{DESTDIR}${file}\" does not exist.\")\n",
      "          ENDIF(EXISTS \"$ENV{DESTDIR}${file}\")\n",
      "        ENDFOREACH(file)\n",
      "        '\n",
      "    \n",
      "      Using the old result for compatibility since the policy is not set.\n",
      "    This warning is for project developers.  Use -Wno-dev to suppress it.\n",
      "    \n",
      "    -- Configuring done\n",
      "    -- Generating done\n",
      "    -- Build files have been written to: /tmp/pip-install-g6yuiz80/atari-py_932d60012e6948ed889798d568913e56/build/lib.linux-x86_64-3.8/atari_py/ale_interface/build\n",
      "    Scanning dependencies of target ale-c-lib\n",
      "    [  0%] Building CXX object CMakeFiles/ale-c-lib.dir/tmp/pip-install-g6yuiz80/atari-py_932d60012e6948ed889798d568913e56/build/lib.linux-x86_64-3.8/atari_py/ale_c_wrapper.cpp.o\n",
      "    [  1%] Building CXX object CMakeFiles/ale-c-lib.dir/src/ale_interface.cpp.o\n",
      "    [  1%] Building CXX object CMakeFiles/ale-c-lib.dir/src/common/ColourPalette.cpp.o\n",
      "    [  2%] Building CXX object CMakeFiles/ale-c-lib.dir/src/common/Constants.cpp.o\n",
      "    [  3%] Building CXX object CMakeFiles/ale-c-lib.dir/src/common/Log.cpp.o\n",
      "    [  3%] Building CXX object CMakeFiles/ale-c-lib.dir/src/common/ScreenExporter.cpp.o\n",
      "    /tmp/pip-install-g6yuiz80/atari-py_932d60012e6948ed889798d568913e56/build/lib.linux-x86_64-3.8/atari_py/ale_interface/src/common/ScreenExporter.cpp:18:10: fatal error: zlib.h: No such file or directory\n",
      "       18 | #include <zlib.h>\n",
      "          |          ^~~~~~~~\n",
      "    compilation terminated.\n",
      "    gmake[2]: *** [CMakeFiles/ale-c-lib.dir/build.make:147: CMakeFiles/ale-c-lib.dir/src/common/ScreenExporter.cpp.o] Error 1\n",
      "    gmake[1]: *** [CMakeFiles/Makefile2:123: CMakeFiles/ale-c-lib.dir/all] Error 2\n",
      "    gmake: *** [Makefile:149: all] Error 2\n",
      "    Could not build atari-py: Command '['cmake', '--build', '.']' returned non-zero exit status 2.. (HINT: are you sure cmake is installed? You might also be missing a library. Atari-py requires: zlib [installable as 'apt-get install zlib1g-dev' on Ubuntu].)\n",
      "    Traceback (most recent call last):\n",
      "      File \"<string>\", line 1, in <module>\n",
      "      File \"/tmp/pip-install-g6yuiz80/atari-py_932d60012e6948ed889798d568913e56/setup.py\", line 36, in <module>\n",
      "        setup(name='atari-py',\n",
      "      File \"/home/akshatjn/anaconda3/lib/python3.8/site-packages/setuptools/__init__.py\", line 153, in setup\n",
      "        return distutils.core.setup(**attrs)\n",
      "      File \"/home/akshatjn/anaconda3/lib/python3.8/distutils/core.py\", line 148, in setup\n",
      "        dist.run_commands()\n",
      "      File \"/home/akshatjn/anaconda3/lib/python3.8/distutils/dist.py\", line 966, in run_commands\n",
      "        self.run_command(cmd)\n",
      "      File \"/home/akshatjn/anaconda3/lib/python3.8/distutils/dist.py\", line 985, in run_command\n",
      "        cmd_obj.run()\n",
      "      File \"/home/akshatjn/anaconda3/lib/python3.8/site-packages/setuptools/command/install.py\", line 61, in run\n",
      "        return orig.install.run(self)\n",
      "      File \"/home/akshatjn/anaconda3/lib/python3.8/distutils/command/install.py\", line 545, in run\n",
      "        self.run_command('build')\n",
      "      File \"/home/akshatjn/anaconda3/lib/python3.8/distutils/cmd.py\", line 313, in run_command\n",
      "        self.distribution.run_command(command)\n",
      "      File \"/home/akshatjn/anaconda3/lib/python3.8/distutils/dist.py\", line 985, in run_command\n",
      "        cmd_obj.run()\n",
      "      File \"/home/akshatjn/anaconda3/lib/python3.8/distutils/command/build.py\", line 135, in run\n",
      "        self.run_command(cmd_name)\n",
      "      File \"/home/akshatjn/anaconda3/lib/python3.8/distutils/cmd.py\", line 313, in run_command\n",
      "        self.distribution.run_command(command)\n",
      "      File \"/home/akshatjn/anaconda3/lib/python3.8/distutils/dist.py\", line 985, in run_command\n",
      "        cmd_obj.run()\n",
      "      File \"/tmp/pip-install-g6yuiz80/atari-py_932d60012e6948ed889798d568913e56/setup.py\", line 23, in run\n",
      "        subprocess.check_call(['cmake', '--build', '.'], cwd=cwd)\n",
      "      File \"/home/akshatjn/anaconda3/lib/python3.8/subprocess.py\", line 364, in check_call\n",
      "        raise CalledProcessError(retcode, cmd)\n",
      "    subprocess.CalledProcessError: Command '['cmake', '--build', '.']' returned non-zero exit status 2.\n",
      "    ----------------------------------------\u001b[0m\n",
      "\u001b[?25h  Rolling back uninstall of atari-py\n",
      "  Moving to /home/akshatjn/anaconda3/lib/python3.8/site-packages/atari_py-1.2.2.dist-info/\n",
      "   from /home/akshatjn/anaconda3/lib/python3.8/site-packages/~tari_py-1.2.2.dist-info\n",
      "  Moving to /home/akshatjn/anaconda3/lib/python3.8/site-packages/atari_py/\n",
      "   from /home/akshatjn/anaconda3/lib/python3.8/site-packages/~tari_py\n",
      "  Moving to /home/akshatjn/anaconda3/lib/python3.8/site-packages/libale_c.cpython-38-x86_64-linux-gnu.so\n",
      "   from /tmp/pip-uninstall-t4956nef/libale_c.cpython-38-x86_64-linux-gnu.so\n",
      "\u001b[31mERROR: Command errored out with exit status 1: /home/akshatjn/anaconda3/bin/python3 -u -c 'import sys, setuptools, tokenize; sys.argv[0] = '\"'\"'/tmp/pip-install-g6yuiz80/atari-py_932d60012e6948ed889798d568913e56/setup.py'\"'\"'; __file__='\"'\"'/tmp/pip-install-g6yuiz80/atari-py_932d60012e6948ed889798d568913e56/setup.py'\"'\"';f=getattr(tokenize, '\"'\"'open'\"'\"', open)(__file__);code=f.read().replace('\"'\"'\\r\\n'\"'\"', '\"'\"'\\n'\"'\"');f.close();exec(compile(code, __file__, '\"'\"'exec'\"'\"'))' install --record /tmp/pip-record-xgk4n0a3/install-record.txt --single-version-externally-managed --compile --install-headers /home/akshatjn/anaconda3/include/python3.8/atari-py Check the logs for full command output.\u001b[0m\n"
     ]
    }
   ],
   "source": [
    "!pip install tensorflow==2.3.1 gym keras-rl2 gym[atari]"
   ]
  },
  {
   "cell_type": "code",
   "execution_count": 35,
   "metadata": {},
   "outputs": [],
   "source": [
    "import gym\n",
    "import random\n",
    "import numpy as np"
   ]
  },
  {
   "cell_type": "code",
   "execution_count": 36,
   "metadata": {},
   "outputs": [],
   "source": [
    "env = gym.make('SpaceInvaders-v0')\n",
    "height, width, channels = env.observation_space.shape\n",
    "actions = env.action_space.n"
   ]
  },
  {
   "cell_type": "code",
   "execution_count": 37,
   "metadata": {},
   "outputs": [
    {
     "output_type": "execute_result",
     "data": {
      "text/plain": [
       "['NOOP', 'FIRE', 'RIGHT', 'LEFT', 'RIGHTFIRE', 'LEFTFIRE']"
      ]
     },
     "metadata": {},
     "execution_count": 37
    }
   ],
   "source": [
    "env.unwrapped.get_action_meanings()"
   ]
  },
  {
   "cell_type": "code",
   "execution_count": 38,
   "metadata": {},
   "outputs": [
    {
     "output_type": "stream",
     "name": "stdout",
     "text": [
      "Episode:0 Score:45.0\n",
      "Episode:1 Score:60.0\n",
      "Episode:2 Score:100.0\n",
      "Episode:3 Score:240.0\n",
      "Episode:4 Score:135.0\n"
     ]
    }
   ],
   "source": [
    "episodes = 5\n",
    "for episode in range(episodes):\n",
    "    state = env.reset()\n",
    "    done = False\n",
    "    score = 0\n",
    "    while not done:\n",
    "        env.render()\n",
    "        action = random.choice([0,1,2,3,4,5])\n",
    "        n_state, reward, done, info, = env.step(action)\n",
    "        score += reward\n",
    "    print('Episode:{} Score:{}'.format(episode, score))\n",
    "env.close()"
   ]
  },
  {
   "source": [
    "## Create a Deep Learning Model with Keras "
   ],
   "cell_type": "markdown",
   "metadata": {}
  },
  {
   "cell_type": "code",
   "execution_count": 39,
   "metadata": {},
   "outputs": [],
   "source": [
    "import numpy as np \n",
    "from tensorflow.keras.models import Sequential\n",
    "from tensorflow.keras.layers import Dense, Flatten, Convolution2D\n",
    "from tensorflow.keras.optimizers import Adam"
   ]
  },
  {
   "cell_type": "code",
   "execution_count": 40,
   "metadata": {},
   "outputs": [],
   "source": [
    "def build_model(height, width, channels, actions):\n",
    "    model = Sequential()\n",
    "    model.add(\n",
    "        Convolution2D(32,(8,8), \n",
    "        strides=(4,4), \n",
    "        activation = 'relu',\n",
    "        input_shape=(3, height, width, channels)))\n",
    "    model.add(\n",
    "        Convolution2D(64,(4,4), \n",
    "        strides=(2,2), \n",
    "        activation = 'relu'))\n",
    "    model.add(\n",
    "        Convolution2D(64,(3,3), \n",
    "        activation = 'relu'))\n",
    "    model.add(Flatten())\n",
    "    model.add(Dense(512, activation='relu'))\n",
    "    model.add(Dense(256, activation='relu'))\n",
    "    model.add(Dense(actions, activation='linear'))\n",
    "    return model"
   ]
  },
  {
   "cell_type": "code",
   "execution_count": 23,
   "metadata": {},
   "outputs": [],
   "source": [
    "#del model"
   ]
  },
  {
   "cell_type": "code",
   "execution_count": 41,
   "metadata": {},
   "outputs": [],
   "source": [
    "model = build_model(height, width, channels, actions)"
   ]
  },
  {
   "cell_type": "code",
   "execution_count": 42,
   "metadata": {},
   "outputs": [
    {
     "output_type": "stream",
     "name": "stdout",
     "text": [
      "Model: \"sequential_4\"\n_________________________________________________________________\nLayer (type)                 Output Shape              Param #   \n=================================================================\nconv2d_12 (Conv2D)           (None, 3, 51, 39, 32)     6176      \n_________________________________________________________________\nconv2d_13 (Conv2D)           (None, 3, 24, 18, 64)     32832     \n_________________________________________________________________\nconv2d_14 (Conv2D)           (None, 3, 22, 16, 64)     36928     \n_________________________________________________________________\nflatten_2 (Flatten)          (None, 67584)             0         \n_________________________________________________________________\ndense_15 (Dense)             (None, 512)               34603520  \n_________________________________________________________________\ndense_16 (Dense)             (None, 256)               131328    \n_________________________________________________________________\ndense_17 (Dense)             (None, 6)                 1542      \n=================================================================\nTotal params: 34,812,326\nTrainable params: 34,812,326\nNon-trainable params: 0\n_________________________________________________________________\n"
     ]
    }
   ],
   "source": [
    "model.summary()"
   ]
  },
  {
   "source": [
    "## Build agent with Keras-RL"
   ],
   "cell_type": "markdown",
   "metadata": {}
  },
  {
   "cell_type": "code",
   "execution_count": 20,
   "metadata": {},
   "outputs": [],
   "source": [
    "from rl.agents import DQNAgent\n",
    "from rl.memory import SequentialMemory\n",
    "from rl.policy import LinearAnnealedPolicy, EpsGreedyQPolicy"
   ]
  },
  {
   "cell_type": "code",
   "execution_count": 26,
   "metadata": {},
   "outputs": [],
   "source": [
    "def build_agent(model, actions):\n",
    "    policy = LinearAnnealedPolicy(EpsGreedyQPolicy(), attr='eps', value_max=1., value_min=.1, value_test=.2, nb_steps=10000)\n",
    "    memory = SequentialMemory(limit=1000, window_length=3)\n",
    "    dqn = DQNAgent(model=model, memory=memory, policy=policy, enable_dueling_network=True, dueling_type='avg', nb_actions=actions, nb_steps_warmup=1000)\n",
    "    return dqn"
   ]
  },
  {
   "cell_type": "code",
   "execution_count": 27,
   "metadata": {},
   "outputs": [
    {
     "output_type": "stream",
     "name": "stdout",
     "text": [
      "Training for 10000 steps ...\n",
      "Interval 1 (0 steps performed)\n",
      "10000/10000 [==============================] - 5666s 567ms/step - reward: 0.2315\n",
      "done, took 5665.802 seconds\n"
     ]
    },
    {
     "output_type": "execute_result",
     "data": {
      "text/plain": [
       "<tensorflow.python.keras.callbacks.History at 0x7f62a8704af0>"
      ]
     },
     "metadata": {},
     "execution_count": 27
    }
   ],
   "source": [
    "dqn = build_agent(model, actions)\n",
    "dqn.compile(Adam(lr=1e-4))\n",
    "dqn.fit(env, nb_steps=10000, visualize=False, verbose=1)"
   ]
  },
  {
   "cell_type": "code",
   "execution_count": 28,
   "metadata": {},
   "outputs": [],
   "source": [
    "dqn.save_weights('10k_fast/dqn_10k_fast.h5f')"
   ]
  },
  {
   "cell_type": "code",
   "execution_count": 57,
   "metadata": {},
   "outputs": [
    {
     "output_type": "stream",
     "name": "stdout",
     "text": [
      "Testing for 10 episodes ...\n",
      "Episode 1: reward: 335.000, steps: 680\n",
      "Episode 2: reward: 485.000, steps: 1692\n",
      "Episode 3: reward: 575.000, steps: 1209\n",
      "Episode 4: reward: 110.000, steps: 616\n",
      "Episode 5: reward: 345.000, steps: 1243\n",
      "Episode 6: reward: 175.000, steps: 613\n",
      "Episode 7: reward: 200.000, steps: 674\n",
      "Episode 8: reward: 90.000, steps: 530\n",
      "Episode 9: reward: 260.000, steps: 983\n",
      "Episode 10: reward: 655.000, steps: 1632\n",
      "323.0\n"
     ]
    }
   ],
   "source": [
    "scores = dqn.test(env, nb_episodes=10, visualize=True)\n",
    "print(np.mean(scores.history['episode_reward']))"
   ]
  },
  {
   "source": [
    "## Load Model From Memory 1m steps"
   ],
   "cell_type": "markdown",
   "metadata": {}
  },
  {
   "cell_type": "code",
   "execution_count": 59,
   "metadata": {},
   "outputs": [],
   "source": [
    "del model, dqn"
   ]
  },
  {
   "cell_type": "code",
   "execution_count": 61,
   "metadata": {},
   "outputs": [],
   "source": [
    "model = build_model(height, width, channels, actions)\n",
    "dqn = build_agent(model, actions)\n",
    "dqn.compile(Adam(lr=1e-4))\n",
    "dqn.load_weights('1m/dqn_weights.h5f')"
   ]
  },
  {
   "cell_type": "code",
   "execution_count": 62,
   "metadata": {},
   "outputs": [
    {
     "output_type": "stream",
     "name": "stdout",
     "text": [
      "Testing for 5 episodes ...\n",
      "Episode 1: reward: 170.000, steps: 633\n",
      "Episode 2: reward: 300.000, steps: 816\n",
      "Episode 3: reward: 295.000, steps: 1170\n",
      "Episode 4: reward: 335.000, steps: 925\n",
      "Episode 5: reward: 85.000, steps: 517\n",
      "237.0\n"
     ]
    }
   ],
   "source": [
    "scores = dqn.test(env, nb_episodes=5, visualize=True)\n",
    "print(np.mean(scores.history['episode_reward']))"
   ]
  },
  {
   "cell_type": "code",
   "execution_count": null,
   "metadata": {},
   "outputs": [],
   "source": []
  }
 ]
}